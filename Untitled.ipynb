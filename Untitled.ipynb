{
 "cells": [
  {
   "cell_type": "code",
   "execution_count": 3,
   "id": "2c0a4ff2-9779-47d9-a655-e813fbb313dc",
   "metadata": {},
   "outputs": [],
   "source": [
    "import pandas as pd\n",
    "import numpy as np\n",
    "import joblib\n",
    "from sklearn.ensemble import RandomForestClassifier\n",
    "from sklearn.model_selection import train_test_split, cross_val_score\n",
    "from sklearn.calibration import CalibratedClassifierCV\n",
    "from sklearn.metrics import accuracy_score"
   ]
  },
  {
   "cell_type": "code",
   "execution_count": 11,
   "id": "28e4d215",
   "metadata": {},
   "outputs": [],
   "source": [
    "import os\n",
    "\n",
    "# Load datasets\n",
    "if os.path.exists('/home/user/anaconda3/Computer Vision/disease-prediction/data/dataset.csv'):\n",
    "\tdf = pd.read_csv('/home/user/anaconda3/Computer Vision/disease-prediction/data/dataset.csv')\n",
    "\tdf.fillna(\"None\", inplace=True)\n",
    "else:\n",
    "\tprint(\"File 'data/dataset.csv' not found.\")\n",
    "\n",
    "if os.path.exists('/home/user/anaconda3/Computer Vision/disease-prediction/data/Symptom-severity.csv'):\n",
    "\tseverity_df = pd.read_csv('/home/user/anaconda3/Computer Vision/disease-prediction/data/Symptom-severity.csv')\n",
    "else:\n",
    "\tprint(\"File 'data/Symptom-severity.csv' not found.\")\n",
    "\n",
    "if os.path.exists('/home/user/anaconda3/Computer Vision/disease-prediction/data/symptom_precaution.csv'):\n",
    "\tprecaution_df = pd.read_csv('/home/user/anaconda3/Computer Vision/disease-prediction/data/symptom_precaution.csv')\n",
    "else:\n",
    "\tprint(\"File 'data/symptom_precaution.csv' not found.\")"
   ]
  },
  {
   "cell_type": "code",
   "execution_count": 12,
   "id": "1ab1a71f",
   "metadata": {},
   "outputs": [
    {
     "name": "stdout",
     "output_type": "stream",
     "text": [
      "Columns in severity_df: ['Symptom', 'weight']\n",
      "                Symptom  weight\n",
      "0               itching       1\n",
      "1             skin_rash       3\n",
      "2  nodal_skin_eruptions       4\n",
      "3   continuous_sneezing       4\n",
      "4             shivering       5\n"
     ]
    }
   ],
   "source": [
    "print(\"Columns in severity_df:\", severity_df.columns.tolist())\n",
    "print(severity_df.head(5))"
   ]
  },
  {
   "cell_type": "code",
   "execution_count": 13,
   "id": "4559848a",
   "metadata": {},
   "outputs": [],
   "source": [
    "# Normalize severity mapping\n",
    "severity_df['Symptom'] = severity_df['Symptom'].str.strip().str.lower()\n",
    "severity_map = dict(zip(severity_df['Symptom'], severity_df['weight']))"
   ]
  },
  {
   "cell_type": "code",
   "execution_count": 14,
   "id": "9eb2552b-0066-4fe8-870d-e9c0582f52b8",
   "metadata": {},
   "outputs": [],
   "source": [
    "# Identify symptom columns\n",
    "symptom_cols = [col for col in df.columns if col.startswith(\"Symptom_\")]\n",
    "\n",
    "# Compute severity score\n",
    "def compute_severity_score(row):\n",
    "    total = 0\n",
    "    for col in symptom_cols:\n",
    "        symptom = row[col].strip().lower()\n",
    "        if symptom != \"none\":\n",
    "            total += severity_map.get(symptom, 0)\n",
    "    return total\n",
    "\n",
    "df['Severity_Score'] = df.apply(compute_severity_score, axis=1)"
   ]
  },
  {
   "cell_type": "code",
   "execution_count": 16,
   "id": "d57a8429-cf57-4957-ad53-1d8ec733b628",
   "metadata": {},
   "outputs": [],
   "source": [
    "# One-hot encode symptoms\n",
    "all_symptoms = pd.unique(df[symptom_cols].values.ravel())\n",
    "all_symptoms = [s for s in all_symptoms if s != \"None\"]\n",
    "symptom_df = pd.DataFrame(0, index=df.index, columns=all_symptoms)\n",
    "for col in symptom_cols:\n",
    "    dummies = pd.get_dummies(df[col])\n",
    "    dummies = dummies.reindex(columns=all_symptoms, fill_value=0)\n",
    "    symptom_df = symptom_df | dummies\n",
    "\n",
    "# Final dataset\n",
    "df_final = pd.concat([df[\"Disease\"], symptom_df], axis=1)\n",
    "df_final[\"Severity_Score\"] = df[\"Severity_Score\"]\n",
    "X = df_final.drop(columns=[\"Disease\"])\n",
    "y = df_final[\"Disease\"]"
   ]
  },
  {
   "cell_type": "code",
   "execution_count": 17,
   "id": "b88ea307-672e-4754-a272-cfe26d482f29",
   "metadata": {},
   "outputs": [],
   "source": [
    "# Split dataset\n",
    "X_train, X_test, y_train, y_test = train_test_split(\n",
    "    X, y, test_size=0.2, stratify=y, random_state=42\n",
    ")\n",
    "\n",
    "# Save feature names\n",
    "feature_columns = X.columns.tolist()\n",
    "\n"
   ]
  },
  {
   "cell_type": "code",
   "execution_count": 18,
   "id": "be25d57f-e922-4d2f-835e-4542da2178ae",
   "metadata": {},
   "outputs": [],
   "source": [
    "# Add symptom noise to test set\n",
    "def add_symptom_noise(X, noise_level=0.08):\n",
    "    X_noisy = X.copy().astype(int)\n",
    "    np.random.seed(42)\n",
    "    n_cells = int(noise_level * X.shape[0] * (X.shape[1] - 1))  # Exclude severity\n",
    "    row_indices = np.random.randint(0, X.shape[0], n_cells)\n",
    "    col_indices = np.random.randint(0, X.shape[1] - 1, n_cells)\n",
    "    for row, col in zip(row_indices, col_indices):\n",
    "        X_noisy.iat[row, col] = 1 - X_noisy.iat[row, col]\n",
    "    return X_noisy\n",
    "\n",
    "X_test_noisy = add_symptom_noise(X_test)"
   ]
  },
  {
   "cell_type": "code",
   "execution_count": 19,
   "id": "8e6103e9-6ef8-40b7-bbb6-8d78292cead1",
   "metadata": {},
   "outputs": [],
   "source": [
    "# Add label noise to test labels\n",
    "def add_label_noise(y, noise_level=0.08):\n",
    "    y_noisy = y.copy()\n",
    "    np.random.seed(42)\n",
    "    unique_classes = y.unique()\n",
    "    n_noisy = int(noise_level * len(y))\n",
    "    noisy_indices = np.random.choice(y.index, size=n_noisy, replace=False)\n",
    "    for idx in noisy_indices:\n",
    "        current = y_noisy.loc[idx]\n",
    "        choices = [cls for cls in unique_classes if cls != current]\n",
    "        y_noisy.loc[idx] = np.random.choice(choices)\n",
    "    return y_noisy\n",
    "\n",
    "y_test_noisy = add_label_noise(y_test)"
   ]
  },
  {
   "cell_type": "code",
   "execution_count": 20,
   "id": "84b82a58-c722-4b02-b504-b20ed63d9bd8",
   "metadata": {},
   "outputs": [
    {
     "data": {
      "text/plain": [
       "['disease_prediction_model.pkl']"
      ]
     },
     "execution_count": 20,
     "metadata": {},
     "output_type": "execute_result"
    }
   ],
   "source": [
    "# Train model\n",
    "base_model = RandomForestClassifier(n_estimators=200, max_depth=20, random_state=42)\n",
    "model = CalibratedClassifierCV(base_model, cv=5)\n",
    "model.fit(X_train, y_train)\n",
    "\n",
    "# Evaluate\n",
    "y_pred = model.predict(X_test_noisy)\n",
    "accuracy = accuracy_score(y_test_noisy, y_pred)\n",
    "cv_scores = cross_val_score(model, X_train, y_train, cv=5)\n",
    "\n",
    "# Save model\n",
    "joblib.dump((model, feature_columns), 'disease_prediction_model.pkl')"
   ]
  },
  {
   "cell_type": "code",
   "execution_count": 24,
   "id": "38967189-bd30-4dfa-ad0e-a01b9b3ccf95",
   "metadata": {},
   "outputs": [],
   "source": [
    "# Load precaution mapping\n",
    "precaution_map = precaution_df.set_index(\"Disease\")[[\"Precaution_1\", \"Precaution_2\", \"Precaution_3\", \"Precaution_4\"]].to_dict(\"index\")\n",
    "\n",
    "# Create a prediction function\n",
    "def predict_disease(symptoms: list):\n",
    "    input_vector = pd.Series(0, index=feature_columns)\n",
    "    input_vector[\"Severity_Score\"] = sum([severity_map.get(s.lower(), 0) for s in symptoms])\n",
    "    for s in symptoms:\n",
    "        s = s.strip()\n",
    "        if s in input_vector.index:\n",
    "            input_vector[s] = 1\n",
    "    input_df = pd.DataFrame([input_vector])\n",
    "    prediction = model.predict(input_df)[0]\n",
    "    precautions = precaution_map.get(prediction, {})\n",
    "    return {\n",
    "        \"predicted_disease\": prediction,\n",
    "        \"precautions\": list(precautions.values())\n",
    "    }"
   ]
  },
  {
   "cell_type": "code",
   "execution_count": 25,
   "id": "99e66082-f783-4ee8-b66c-7a916642b735",
   "metadata": {},
   "outputs": [],
   "source": [
    "# Example prediction\n",
    "example_symptoms = [\"itching\", \"skin_rash\", \"nodal_skin_eruptions\"]\n",
    "example_result = predict_disease(example_symptoms)"
   ]
  },
  {
   "cell_type": "code",
   "execution_count": 26,
   "id": "e23d2975-7d1e-4881-a1ca-3670dae94e96",
   "metadata": {},
   "outputs": [
    {
     "data": {
      "text/plain": [
       "{'accuracy_on_noisy_test': 0.84,\n",
       " 'cv_mean_accuracy': 1.0,\n",
       " 'cv_std': 0.0,\n",
       " 'model_saved_as': 'disease_prediction_model.pkl',\n",
       " 'example_prediction': {'predicted_disease': 'Fungal infection',\n",
       "  'precautions': ['bath twice',\n",
       "   'use detol or neem in bathing water',\n",
       "   'keep infected area dry',\n",
       "   'use clean cloths']}}"
      ]
     },
     "execution_count": 26,
     "metadata": {},
     "output_type": "execute_result"
    }
   ],
   "source": [
    "# Output summary\n",
    "{\n",
    "    \"accuracy_on_noisy_test\": round(accuracy, 2),\n",
    "    \"cv_mean_accuracy\": round(cv_scores.mean(), 2),\n",
    "    \"cv_std\": round(cv_scores.std(), 2),\n",
    "    \"model_saved_as\": \"disease_prediction_model.pkl\",\n",
    "    \"example_prediction\": example_result\n",
    "}"
   ]
  },
  {
   "cell_type": "code",
   "execution_count": null,
   "id": "98229b9b-788d-412c-9292-053434ac2816",
   "metadata": {},
   "outputs": [],
   "source": []
  }
 ],
 "metadata": {
  "kernelspec": {
   "display_name": "base",
   "language": "python",
   "name": "python3"
  },
  "language_info": {
   "codemirror_mode": {
    "name": "ipython",
    "version": 3
   },
   "file_extension": ".py",
   "mimetype": "text/x-python",
   "name": "python",
   "nbconvert_exporter": "python",
   "pygments_lexer": "ipython3",
   "version": "3.12.7"
  }
 },
 "nbformat": 4,
 "nbformat_minor": 5
}
