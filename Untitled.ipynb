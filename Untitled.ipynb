{
 "cells": [
  {
   "cell_type": "code",
   "execution_count": 1,
   "id": "2c0a4ff2-9779-47d9-a655-e813fbb313dc",
   "metadata": {},
   "outputs": [],
   "source": [
    "import pandas as pd\n",
    "import numpy as np\n",
    "import joblib\n",
    "from sklearn.ensemble import RandomForestClassifier\n",
    "from sklearn.model_selection import train_test_split, cross_val_score\n",
    "from sklearn.calibration import CalibratedClassifierCV\n",
    "from sklearn.metrics import accuracy_score"
   ]
  },
  {
   "cell_type": "code",
   "execution_count": 7,
   "id": "28e4d215",
   "metadata": {},
   "outputs": [
    {
     "ename": "FileNotFoundError",
     "evalue": "[Errno 2] No such file or directory: 'd/home/user/anaconda3/Computer Vision/disease-prediction/data/symptom_Description.csv'",
     "output_type": "error",
     "traceback": [
      "\u001b[0;31m---------------------------------------------------------------------------\u001b[0m",
      "\u001b[0;31mFileNotFoundError\u001b[0m                         Traceback (most recent call last)",
      "Cell \u001b[0;32mIn[7], line 11\u001b[0m\n\u001b[1;32m      8\u001b[0m \t\u001b[38;5;28mprint\u001b[39m(\u001b[38;5;124m\"\u001b[39m\u001b[38;5;124mFile \u001b[39m\u001b[38;5;124m'\u001b[39m\u001b[38;5;124mdata/dataset.csv\u001b[39m\u001b[38;5;124m'\u001b[39m\u001b[38;5;124m not found.\u001b[39m\u001b[38;5;124m\"\u001b[39m)\n\u001b[1;32m     10\u001b[0m \u001b[38;5;28;01mif\u001b[39;00m os\u001b[38;5;241m.\u001b[39mpath\u001b[38;5;241m.\u001b[39mexists(\u001b[38;5;124m'\u001b[39m\u001b[38;5;124m/home/user/anaconda3/Computer Vision/disease-prediction/data/symptom_Description.csv\u001b[39m\u001b[38;5;124m'\u001b[39m):\n\u001b[0;32m---> 11\u001b[0m \tseverity_df \u001b[38;5;241m=\u001b[39m \u001b[43mpd\u001b[49m\u001b[38;5;241;43m.\u001b[39;49m\u001b[43mread_csv\u001b[49m\u001b[43m(\u001b[49m\u001b[38;5;124;43m'\u001b[39;49m\u001b[38;5;124;43md/home/user/anaconda3/Computer Vision/disease-prediction/data/symptom_Description.csv\u001b[39;49m\u001b[38;5;124;43m'\u001b[39;49m\u001b[43m)\u001b[49m\n\u001b[1;32m     12\u001b[0m \u001b[38;5;28;01melse\u001b[39;00m:\n\u001b[1;32m     13\u001b[0m \t\u001b[38;5;28mprint\u001b[39m(\u001b[38;5;124m\"\u001b[39m\u001b[38;5;124mFile \u001b[39m\u001b[38;5;124m'\u001b[39m\u001b[38;5;124mdata/Symptom-severity.csv\u001b[39m\u001b[38;5;124m'\u001b[39m\u001b[38;5;124m not found.\u001b[39m\u001b[38;5;124m\"\u001b[39m)\n",
      "File \u001b[0;32m~/anaconda3/envs/machine/lib/python3.11/site-packages/pandas/io/parsers/readers.py:1026\u001b[0m, in \u001b[0;36mread_csv\u001b[0;34m(filepath_or_buffer, sep, delimiter, header, names, index_col, usecols, dtype, engine, converters, true_values, false_values, skipinitialspace, skiprows, skipfooter, nrows, na_values, keep_default_na, na_filter, verbose, skip_blank_lines, parse_dates, infer_datetime_format, keep_date_col, date_parser, date_format, dayfirst, cache_dates, iterator, chunksize, compression, thousands, decimal, lineterminator, quotechar, quoting, doublequote, escapechar, comment, encoding, encoding_errors, dialect, on_bad_lines, delim_whitespace, low_memory, memory_map, float_precision, storage_options, dtype_backend)\u001b[0m\n\u001b[1;32m   1013\u001b[0m kwds_defaults \u001b[38;5;241m=\u001b[39m _refine_defaults_read(\n\u001b[1;32m   1014\u001b[0m     dialect,\n\u001b[1;32m   1015\u001b[0m     delimiter,\n\u001b[0;32m   (...)\u001b[0m\n\u001b[1;32m   1022\u001b[0m     dtype_backend\u001b[38;5;241m=\u001b[39mdtype_backend,\n\u001b[1;32m   1023\u001b[0m )\n\u001b[1;32m   1024\u001b[0m kwds\u001b[38;5;241m.\u001b[39mupdate(kwds_defaults)\n\u001b[0;32m-> 1026\u001b[0m \u001b[38;5;28;01mreturn\u001b[39;00m \u001b[43m_read\u001b[49m\u001b[43m(\u001b[49m\u001b[43mfilepath_or_buffer\u001b[49m\u001b[43m,\u001b[49m\u001b[43m \u001b[49m\u001b[43mkwds\u001b[49m\u001b[43m)\u001b[49m\n",
      "File \u001b[0;32m~/anaconda3/envs/machine/lib/python3.11/site-packages/pandas/io/parsers/readers.py:620\u001b[0m, in \u001b[0;36m_read\u001b[0;34m(filepath_or_buffer, kwds)\u001b[0m\n\u001b[1;32m    617\u001b[0m _validate_names(kwds\u001b[38;5;241m.\u001b[39mget(\u001b[38;5;124m\"\u001b[39m\u001b[38;5;124mnames\u001b[39m\u001b[38;5;124m\"\u001b[39m, \u001b[38;5;28;01mNone\u001b[39;00m))\n\u001b[1;32m    619\u001b[0m \u001b[38;5;66;03m# Create the parser.\u001b[39;00m\n\u001b[0;32m--> 620\u001b[0m parser \u001b[38;5;241m=\u001b[39m \u001b[43mTextFileReader\u001b[49m\u001b[43m(\u001b[49m\u001b[43mfilepath_or_buffer\u001b[49m\u001b[43m,\u001b[49m\u001b[43m \u001b[49m\u001b[38;5;241;43m*\u001b[39;49m\u001b[38;5;241;43m*\u001b[39;49m\u001b[43mkwds\u001b[49m\u001b[43m)\u001b[49m\n\u001b[1;32m    622\u001b[0m \u001b[38;5;28;01mif\u001b[39;00m chunksize \u001b[38;5;129;01mor\u001b[39;00m iterator:\n\u001b[1;32m    623\u001b[0m     \u001b[38;5;28;01mreturn\u001b[39;00m parser\n",
      "File \u001b[0;32m~/anaconda3/envs/machine/lib/python3.11/site-packages/pandas/io/parsers/readers.py:1620\u001b[0m, in \u001b[0;36mTextFileReader.__init__\u001b[0;34m(self, f, engine, **kwds)\u001b[0m\n\u001b[1;32m   1617\u001b[0m     \u001b[38;5;28mself\u001b[39m\u001b[38;5;241m.\u001b[39moptions[\u001b[38;5;124m\"\u001b[39m\u001b[38;5;124mhas_index_names\u001b[39m\u001b[38;5;124m\"\u001b[39m] \u001b[38;5;241m=\u001b[39m kwds[\u001b[38;5;124m\"\u001b[39m\u001b[38;5;124mhas_index_names\u001b[39m\u001b[38;5;124m\"\u001b[39m]\n\u001b[1;32m   1619\u001b[0m \u001b[38;5;28mself\u001b[39m\u001b[38;5;241m.\u001b[39mhandles: IOHandles \u001b[38;5;241m|\u001b[39m \u001b[38;5;28;01mNone\u001b[39;00m \u001b[38;5;241m=\u001b[39m \u001b[38;5;28;01mNone\u001b[39;00m\n\u001b[0;32m-> 1620\u001b[0m \u001b[38;5;28mself\u001b[39m\u001b[38;5;241m.\u001b[39m_engine \u001b[38;5;241m=\u001b[39m \u001b[38;5;28;43mself\u001b[39;49m\u001b[38;5;241;43m.\u001b[39;49m\u001b[43m_make_engine\u001b[49m\u001b[43m(\u001b[49m\u001b[43mf\u001b[49m\u001b[43m,\u001b[49m\u001b[43m \u001b[49m\u001b[38;5;28;43mself\u001b[39;49m\u001b[38;5;241;43m.\u001b[39;49m\u001b[43mengine\u001b[49m\u001b[43m)\u001b[49m\n",
      "File \u001b[0;32m~/anaconda3/envs/machine/lib/python3.11/site-packages/pandas/io/parsers/readers.py:1880\u001b[0m, in \u001b[0;36mTextFileReader._make_engine\u001b[0;34m(self, f, engine)\u001b[0m\n\u001b[1;32m   1878\u001b[0m     \u001b[38;5;28;01mif\u001b[39;00m \u001b[38;5;124m\"\u001b[39m\u001b[38;5;124mb\u001b[39m\u001b[38;5;124m\"\u001b[39m \u001b[38;5;129;01mnot\u001b[39;00m \u001b[38;5;129;01min\u001b[39;00m mode:\n\u001b[1;32m   1879\u001b[0m         mode \u001b[38;5;241m+\u001b[39m\u001b[38;5;241m=\u001b[39m \u001b[38;5;124m\"\u001b[39m\u001b[38;5;124mb\u001b[39m\u001b[38;5;124m\"\u001b[39m\n\u001b[0;32m-> 1880\u001b[0m \u001b[38;5;28mself\u001b[39m\u001b[38;5;241m.\u001b[39mhandles \u001b[38;5;241m=\u001b[39m \u001b[43mget_handle\u001b[49m\u001b[43m(\u001b[49m\n\u001b[1;32m   1881\u001b[0m \u001b[43m    \u001b[49m\u001b[43mf\u001b[49m\u001b[43m,\u001b[49m\n\u001b[1;32m   1882\u001b[0m \u001b[43m    \u001b[49m\u001b[43mmode\u001b[49m\u001b[43m,\u001b[49m\n\u001b[1;32m   1883\u001b[0m \u001b[43m    \u001b[49m\u001b[43mencoding\u001b[49m\u001b[38;5;241;43m=\u001b[39;49m\u001b[38;5;28;43mself\u001b[39;49m\u001b[38;5;241;43m.\u001b[39;49m\u001b[43moptions\u001b[49m\u001b[38;5;241;43m.\u001b[39;49m\u001b[43mget\u001b[49m\u001b[43m(\u001b[49m\u001b[38;5;124;43m\"\u001b[39;49m\u001b[38;5;124;43mencoding\u001b[39;49m\u001b[38;5;124;43m\"\u001b[39;49m\u001b[43m,\u001b[49m\u001b[43m \u001b[49m\u001b[38;5;28;43;01mNone\u001b[39;49;00m\u001b[43m)\u001b[49m\u001b[43m,\u001b[49m\n\u001b[1;32m   1884\u001b[0m \u001b[43m    \u001b[49m\u001b[43mcompression\u001b[49m\u001b[38;5;241;43m=\u001b[39;49m\u001b[38;5;28;43mself\u001b[39;49m\u001b[38;5;241;43m.\u001b[39;49m\u001b[43moptions\u001b[49m\u001b[38;5;241;43m.\u001b[39;49m\u001b[43mget\u001b[49m\u001b[43m(\u001b[49m\u001b[38;5;124;43m\"\u001b[39;49m\u001b[38;5;124;43mcompression\u001b[39;49m\u001b[38;5;124;43m\"\u001b[39;49m\u001b[43m,\u001b[49m\u001b[43m \u001b[49m\u001b[38;5;28;43;01mNone\u001b[39;49;00m\u001b[43m)\u001b[49m\u001b[43m,\u001b[49m\n\u001b[1;32m   1885\u001b[0m \u001b[43m    \u001b[49m\u001b[43mmemory_map\u001b[49m\u001b[38;5;241;43m=\u001b[39;49m\u001b[38;5;28;43mself\u001b[39;49m\u001b[38;5;241;43m.\u001b[39;49m\u001b[43moptions\u001b[49m\u001b[38;5;241;43m.\u001b[39;49m\u001b[43mget\u001b[49m\u001b[43m(\u001b[49m\u001b[38;5;124;43m\"\u001b[39;49m\u001b[38;5;124;43mmemory_map\u001b[39;49m\u001b[38;5;124;43m\"\u001b[39;49m\u001b[43m,\u001b[49m\u001b[43m \u001b[49m\u001b[38;5;28;43;01mFalse\u001b[39;49;00m\u001b[43m)\u001b[49m\u001b[43m,\u001b[49m\n\u001b[1;32m   1886\u001b[0m \u001b[43m    \u001b[49m\u001b[43mis_text\u001b[49m\u001b[38;5;241;43m=\u001b[39;49m\u001b[43mis_text\u001b[49m\u001b[43m,\u001b[49m\n\u001b[1;32m   1887\u001b[0m \u001b[43m    \u001b[49m\u001b[43merrors\u001b[49m\u001b[38;5;241;43m=\u001b[39;49m\u001b[38;5;28;43mself\u001b[39;49m\u001b[38;5;241;43m.\u001b[39;49m\u001b[43moptions\u001b[49m\u001b[38;5;241;43m.\u001b[39;49m\u001b[43mget\u001b[49m\u001b[43m(\u001b[49m\u001b[38;5;124;43m\"\u001b[39;49m\u001b[38;5;124;43mencoding_errors\u001b[39;49m\u001b[38;5;124;43m\"\u001b[39;49m\u001b[43m,\u001b[49m\u001b[43m \u001b[49m\u001b[38;5;124;43m\"\u001b[39;49m\u001b[38;5;124;43mstrict\u001b[39;49m\u001b[38;5;124;43m\"\u001b[39;49m\u001b[43m)\u001b[49m\u001b[43m,\u001b[49m\n\u001b[1;32m   1888\u001b[0m \u001b[43m    \u001b[49m\u001b[43mstorage_options\u001b[49m\u001b[38;5;241;43m=\u001b[39;49m\u001b[38;5;28;43mself\u001b[39;49m\u001b[38;5;241;43m.\u001b[39;49m\u001b[43moptions\u001b[49m\u001b[38;5;241;43m.\u001b[39;49m\u001b[43mget\u001b[49m\u001b[43m(\u001b[49m\u001b[38;5;124;43m\"\u001b[39;49m\u001b[38;5;124;43mstorage_options\u001b[39;49m\u001b[38;5;124;43m\"\u001b[39;49m\u001b[43m,\u001b[49m\u001b[43m \u001b[49m\u001b[38;5;28;43;01mNone\u001b[39;49;00m\u001b[43m)\u001b[49m\u001b[43m,\u001b[49m\n\u001b[1;32m   1889\u001b[0m \u001b[43m\u001b[49m\u001b[43m)\u001b[49m\n\u001b[1;32m   1890\u001b[0m \u001b[38;5;28;01massert\u001b[39;00m \u001b[38;5;28mself\u001b[39m\u001b[38;5;241m.\u001b[39mhandles \u001b[38;5;129;01mis\u001b[39;00m \u001b[38;5;129;01mnot\u001b[39;00m \u001b[38;5;28;01mNone\u001b[39;00m\n\u001b[1;32m   1891\u001b[0m f \u001b[38;5;241m=\u001b[39m \u001b[38;5;28mself\u001b[39m\u001b[38;5;241m.\u001b[39mhandles\u001b[38;5;241m.\u001b[39mhandle\n",
      "File \u001b[0;32m~/anaconda3/envs/machine/lib/python3.11/site-packages/pandas/io/common.py:873\u001b[0m, in \u001b[0;36mget_handle\u001b[0;34m(path_or_buf, mode, encoding, compression, memory_map, is_text, errors, storage_options)\u001b[0m\n\u001b[1;32m    868\u001b[0m \u001b[38;5;28;01melif\u001b[39;00m \u001b[38;5;28misinstance\u001b[39m(handle, \u001b[38;5;28mstr\u001b[39m):\n\u001b[1;32m    869\u001b[0m     \u001b[38;5;66;03m# Check whether the filename is to be opened in binary mode.\u001b[39;00m\n\u001b[1;32m    870\u001b[0m     \u001b[38;5;66;03m# Binary mode does not support 'encoding' and 'newline'.\u001b[39;00m\n\u001b[1;32m    871\u001b[0m     \u001b[38;5;28;01mif\u001b[39;00m ioargs\u001b[38;5;241m.\u001b[39mencoding \u001b[38;5;129;01mand\u001b[39;00m \u001b[38;5;124m\"\u001b[39m\u001b[38;5;124mb\u001b[39m\u001b[38;5;124m\"\u001b[39m \u001b[38;5;129;01mnot\u001b[39;00m \u001b[38;5;129;01min\u001b[39;00m ioargs\u001b[38;5;241m.\u001b[39mmode:\n\u001b[1;32m    872\u001b[0m         \u001b[38;5;66;03m# Encoding\u001b[39;00m\n\u001b[0;32m--> 873\u001b[0m         handle \u001b[38;5;241m=\u001b[39m \u001b[38;5;28mopen\u001b[39m(\n\u001b[1;32m    874\u001b[0m             handle,\n\u001b[1;32m    875\u001b[0m             ioargs\u001b[38;5;241m.\u001b[39mmode,\n\u001b[1;32m    876\u001b[0m             encoding\u001b[38;5;241m=\u001b[39mioargs\u001b[38;5;241m.\u001b[39mencoding,\n\u001b[1;32m    877\u001b[0m             errors\u001b[38;5;241m=\u001b[39merrors,\n\u001b[1;32m    878\u001b[0m             newline\u001b[38;5;241m=\u001b[39m\u001b[38;5;124m\"\u001b[39m\u001b[38;5;124m\"\u001b[39m,\n\u001b[1;32m    879\u001b[0m         )\n\u001b[1;32m    880\u001b[0m     \u001b[38;5;28;01melse\u001b[39;00m:\n\u001b[1;32m    881\u001b[0m         \u001b[38;5;66;03m# Binary mode\u001b[39;00m\n\u001b[1;32m    882\u001b[0m         handle \u001b[38;5;241m=\u001b[39m \u001b[38;5;28mopen\u001b[39m(handle, ioargs\u001b[38;5;241m.\u001b[39mmode)\n",
      "\u001b[0;31mFileNotFoundError\u001b[0m: [Errno 2] No such file or directory: 'd/home/user/anaconda3/Computer Vision/disease-prediction/data/symptom_Description.csv'"
     ]
    }
   ],
   "source": [
    "import os\n",
    "\n",
    "# Load datasets\n",
    "if os.path.exists('/home/user/anaconda3/Computer Vision/disease-prediction/data/dataset.csv'):\n",
    "\tdf = pd.read_csv('/home/user/anaconda3/Computer Vision/disease-prediction/data/dataset.csv')\n",
    "\tdf.fillna(\"None\", inplace=True)\n",
    "else:\n",
    "\tprint(\"File 'data/dataset.csv' not found.\")\n",
    "\n",
    "if os.path.exists('/home/user/anaconda3/Computer Vision/disease-prediction/data/symptom_Description.csv'):\n",
    "\tseverity_df = pd.read_csv('d/home/user/anaconda3/Computer Vision/disease-prediction/data/symptom_Description.csv')\n",
    "else:\n",
    "\tprint(\"File 'data/Symptom-severity.csv' not found.\")\n",
    "\n",
    "if os.path.exists('/home/user/anaconda3/Computer Vision/disease-prediction/data/symptom_precaution.csv'):\n",
    "\tprecaution_df = pd.read_csv('/home/user/anaconda3/Computer Vision/disease-prediction/data/symptom_precaution.csv')\n",
    "else:\n",
    "\tprint(\"File 'data/symptom_precaution.csv' not found.\")"
   ]
  },
  {
   "cell_type": "code",
   "execution_count": 9,
   "id": "4559848a",
   "metadata": {},
   "outputs": [],
   "source": [
    "# Normalize severity mapping\n",
    "severity_df['Symptom'] = severity_df['Symptom'].str.strip().str.lower()\n",
    "severity_map = dict(zip(severity_df['Symptom'], severity_df['weight']))"
   ]
  },
  {
   "cell_type": "code",
   "execution_count": 10,
   "id": "9eb2552b-0066-4fe8-870d-e9c0582f52b8",
   "metadata": {},
   "outputs": [],
   "source": [
    "# Identify symptom columns\n",
    "symptom_cols = [col for col in df.columns if col.startswith(\"Symptom_\")]\n",
    "\n",
    "# Compute severity score\n",
    "def compute_severity_score(row):\n",
    "    total = 0\n",
    "    for col in symptom_cols:\n",
    "        symptom = row[col].strip().lower()\n",
    "        if symptom != \"none\":\n",
    "            total += severity_map.get(symptom, 0)\n",
    "    return total\n",
    "\n",
    "df['Severity_Score'] = df.apply(compute_severity_score, axis=1)"
   ]
  },
  {
   "cell_type": "code",
   "execution_count": 11,
   "id": "d57a8429-cf57-4957-ad53-1d8ec733b628",
   "metadata": {},
   "outputs": [],
   "source": [
    "# One-hot encode symptoms\n",
    "all_symptoms = pd.unique(df[symptom_cols].values.ravel())\n",
    "all_symptoms = [s for s in all_symptoms if s != \"None\"]\n",
    "symptom_df = pd.DataFrame(0, index=df.index, columns=all_symptoms)\n",
    "for col in symptom_cols:\n",
    "    dummies = pd.get_dummies(df[col])\n",
    "    dummies = dummies.reindex(columns=all_symptoms, fill_value=0)\n",
    "    symptom_df = symptom_df | dummies\n",
    "\n",
    "# Final dataset\n",
    "df_final = pd.concat([df[\"Disease\"], symptom_df], axis=1)\n",
    "df_final[\"Severity_Score\"] = df[\"Severity_Score\"]\n",
    "X = df_final.drop(columns=[\"Disease\"])\n",
    "y = df_final[\"Disease\"]"
   ]
  },
  {
   "cell_type": "code",
   "execution_count": 13,
   "id": "b88ea307-672e-4754-a272-cfe26d482f29",
   "metadata": {},
   "outputs": [],
   "source": [
    "# Split dataset\n",
    "X_train, X_test, y_train, y_test = train_test_split(\n",
    "    X, y, test_size=0.2, stratify=y, random_state=42\n",
    ")\n",
    "\n",
    "# Save feature names\n",
    "feature_columns = X.columns.tolist()\n",
    "\n"
   ]
  },
  {
   "cell_type": "code",
   "execution_count": 14,
   "id": "be25d57f-e922-4d2f-835e-4542da2178ae",
   "metadata": {},
   "outputs": [],
   "source": [
    "# Add symptom noise to test set\n",
    "def add_symptom_noise(X, noise_level=0.08):\n",
    "    X_noisy = X.copy().astype(int)\n",
    "    np.random.seed(42)\n",
    "    n_cells = int(noise_level * X.shape[0] * (X.shape[1] - 1))  # Exclude severity\n",
    "    row_indices = np.random.randint(0, X.shape[0], n_cells)\n",
    "    col_indices = np.random.randint(0, X.shape[1] - 1, n_cells)\n",
    "    for row, col in zip(row_indices, col_indices):\n",
    "        X_noisy.iat[row, col] = 1 - X_noisy.iat[row, col]\n",
    "    return X_noisy\n",
    "\n",
    "X_test_noisy = add_symptom_noise(X_test)"
   ]
  },
  {
   "cell_type": "code",
   "execution_count": 15,
   "id": "8e6103e9-6ef8-40b7-bbb6-8d78292cead1",
   "metadata": {},
   "outputs": [],
   "source": [
    "# Add label noise to test labels\n",
    "def add_label_noise(y, noise_level=0.08):\n",
    "    y_noisy = y.copy()\n",
    "    np.random.seed(42)\n",
    "    unique_classes = y.unique()\n",
    "    n_noisy = int(noise_level * len(y))\n",
    "    noisy_indices = np.random.choice(y.index, size=n_noisy, replace=False)\n",
    "    for idx in noisy_indices:\n",
    "        current = y_noisy.loc[idx]\n",
    "        choices = [cls for cls in unique_classes if cls != current]\n",
    "        y_noisy.loc[idx] = np.random.choice(choices)\n",
    "    return y_noisy\n",
    "\n",
    "y_test_noisy = add_label_noise(y_test)"
   ]
  },
  {
   "cell_type": "code",
   "execution_count": 16,
   "id": "84b82a58-c722-4b02-b504-b20ed63d9bd8",
   "metadata": {},
   "outputs": [
    {
     "data": {
      "text/plain": [
       "['disease_prediction_model.pkl']"
      ]
     },
     "execution_count": 16,
     "metadata": {},
     "output_type": "execute_result"
    }
   ],
   "source": [
    "# Train model\n",
    "base_model = RandomForestClassifier(n_estimators=200, max_depth=20, random_state=42)\n",
    "model = CalibratedClassifierCV(base_model, cv=5)\n",
    "model.fit(X_train, y_train)\n",
    "\n",
    "# Evaluate\n",
    "y_pred = model.predict(X_test_noisy)\n",
    "accuracy = accuracy_score(y_test_noisy, y_pred)\n",
    "cv_scores = cross_val_score(model, X_train, y_train, cv=5)\n",
    "\n",
    "# Save model\n",
    "joblib.dump((model, feature_columns), 'disease_prediction_model.pkl')"
   ]
  },
  {
   "cell_type": "code",
   "execution_count": 17,
   "id": "38967189-bd30-4dfa-ad0e-a01b9b3ccf95",
   "metadata": {},
   "outputs": [],
   "source": [
    "# Load precaution mapping\n",
    "precaution_map = precaution_df.set_index(\"Disease\")[[\"Precaution_1\", \"Precaution_2\", \"Precaution_3\", \"Precaution_4\"]].to_dict(\"index\")\n",
    "\n",
    "# Create a prediction function\n",
    "def predict_disease(symptoms: list):\n",
    "    input_vector = pd.Series(0, index=feature_columns)\n",
    "    input_vector[\"Severity_Score\"] = sum([severity_map.get(s.lower(), 0) for s in symptoms])\n",
    "    for s in symptoms:\n",
    "        s = s.strip()\n",
    "        if s in input_vector.index:\n",
    "            input_vector[s] = 1\n",
    "    input_df = pd.DataFrame([input_vector])\n",
    "    prediction = model.predict(input_df)[0]\n",
    "    precautions = precaution_map.get(prediction, {})\n",
    "    return {\n",
    "        \"predicted_disease\": prediction,\n",
    "        \"precautions\": list(precautions.values())\n",
    "    }"
   ]
  },
  {
   "cell_type": "code",
   "execution_count": 18,
   "id": "99e66082-f783-4ee8-b66c-7a916642b735",
   "metadata": {},
   "outputs": [],
   "source": [
    "# Example prediction\n",
    "example_symptoms = [\"itching\", \"skin_rash\", \"nodal_skin_eruptions\"]\n",
    "example_result = predict_disease(example_symptoms)"
   ]
  },
  {
   "cell_type": "code",
   "execution_count": 19,
   "id": "e23d2975-7d1e-4881-a1ca-3670dae94e96",
   "metadata": {},
   "outputs": [
    {
     "data": {
      "text/plain": [
       "{'accuracy_on_noisy_test': 0.84,\n",
       " 'cv_mean_accuracy': 1.0,\n",
       " 'cv_std': 0.0,\n",
       " 'model_saved_as': 'disease_prediction_model.pkl',\n",
       " 'example_prediction': {'predicted_disease': 'Fungal infection',\n",
       "  'precautions': ['bath twice',\n",
       "   'use detol or neem in bathing water',\n",
       "   'keep infected area dry',\n",
       "   'use clean cloths']}}"
      ]
     },
     "execution_count": 19,
     "metadata": {},
     "output_type": "execute_result"
    }
   ],
   "source": [
    "# Output summary\n",
    "{\n",
    "    \"accuracy_on_noisy_test\": round(accuracy, 2),\n",
    "    \"cv_mean_accuracy\": round(cv_scores.mean(), 2),\n",
    "    \"cv_std\": round(cv_scores.std(), 2),\n",
    "    \"model_saved_as\": \"disease_prediction_model.pkl\",\n",
    "    \"example_prediction\": example_result\n",
    "}"
   ]
  },
  {
   "cell_type": "code",
   "execution_count": null,
   "id": "98229b9b-788d-412c-9292-053434ac2816",
   "metadata": {},
   "outputs": [],
   "source": []
  }
 ],
 "metadata": {
  "kernelspec": {
   "display_name": "Python 3 (ipykernel)",
   "language": "python",
   "name": "python3"
  },
  "language_info": {
   "codemirror_mode": {
    "name": "ipython",
    "version": 3
   },
   "file_extension": ".py",
   "mimetype": "text/x-python",
   "name": "python",
   "nbconvert_exporter": "python",
   "pygments_lexer": "ipython3",
   "version": "3.11.5"
  }
 },
 "nbformat": 4,
 "nbformat_minor": 5
}
